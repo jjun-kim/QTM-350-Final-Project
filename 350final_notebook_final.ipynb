{
  "cells": [
    {
      "attachments": {},
      "cell_type": "markdown",
      "id": "e7fd7aed",
      "metadata": {},
      "source": [
        "# Final Project\n",
        "### Dawit Dean, Jaejun Kim, James Song, Wellington Yang, Jessie Zames, Julietta Zhu"
      ]
    },
    {
      "attachments": {},
      "cell_type": "markdown",
      "id": "0adbc023",
      "metadata": {},
      "source": [
        "## Intro\n",
        "For our final project we are going to delve into the concept of Artificial intelligence bias. Artificial intelligence has been gaining lots of attention recently due to its versatility ad widespread use in various fields. Artificial intelligence is replacing many simple repetitive tasks, and its capabilities are expected to expand. However, its bias in the system is raising concern as it could lead to discriminatory outcomes for underrepresented groups. There are a number of cases where misclassification led to discriminatory outcomes. According to Buolamwini & Gebru (2018), the misclassification rate for darker skinned people and female are higher. Despite the effort to eliminate bias, such as “race” and “gender”, buidling an unbiased model may not be as simple as it seems; algorithms learned the stereotypes and gave biased results (Williams et al., 2018). Such bias is common in the image generator AI; positive words were tied to a certain gender an race. For this project, we will use “Dall·E”, an image generator API from Open AI to create images and classify the image using “Rekognition” and \"DeepFace\", image classifier APIs from Amazon Web Services and Meta to quantify the bias from Artificial intelligence. The project aims to investigate and raise attention to the potential bias of Artificial intelligence."
      ]
    },
    {
      "attachments": {},
      "cell_type": "markdown",
      "id": "7df6b485",
      "metadata": {},
      "source": [
        "## Walkthrough of Data Geneartion Process\n",
        "\n",
        "### Setup\n",
        "Before we get started we first import necessary packages and set up our AWS Sagemaker for this walkthrough."
      ]
    },
    {
      "cell_type": "code",
      "execution_count": null,
      "id": "4e2a9b48-1133-4375-9d1c-2454c1c2f6db",
      "metadata": {
        "id": "4e2a9b48-1133-4375-9d1c-2454c1c2f6db"
      },
      "outputs": [],
      "source": [
        "import boto3\n",
        "# AWS set up\n",
        "session = boto3.Session()\n",
        "region = session.region_name\n",
        "s3_client = session.client(service_name=\"s3\")\n",
        "\n",
        "# setting up the s3 bucket\n",
        "bucket = \"350final\" # insert bucket name here\n",
        "\n",
        "output_folder_name = \"images_generated\" # insert output folder name here \n",
        "output_s3_path = f's3://{bucket}/'"
      ]
    },
    {
      "attachments": {},
      "cell_type": "markdown",
      "id": "07656417",
      "metadata": {},
      "source": [
        "The first step is to prepare the data. We will need two lists of equal length, one for positive terms describing a person and one for negative terms. We used the following lists for our query"
      ]
    },
    {
      "cell_type": "code",
      "execution_count": null,
      "id": "1dee818e",
      "metadata": {},
      "outputs": [],
      "source": [
        "# list of standardized queries\n",
        "positive_list = [\"smart person\", \"agreeable person\", \"capable person\", \n",
        "                \"reliable person\", \"honest person\"]\n",
        "\n",
        "negative_list = [\"dumb person\", \"disagreeable person\", \"incapable person\", \n",
        "                \"unreliable person\", \"dishonest person\"]"
      ]
    },
    {
      "attachments": {},
      "cell_type": "markdown",
      "id": "8d3db743",
      "metadata": {},
      "source": [
        "Then we randomly select a pair of positive and negative query and use it as a prompt to generate the image using openAI's DALL-E 2 API. We use the time.sleep(60) command to bypass the API limit."
      ]
    },
    {
      "cell_type": "code",
      "execution_count": null,
      "id": "30de2805",
      "metadata": {},
      "outputs": [],
      "source": [
        "import openai\n",
        "import random\n",
        "import requests\n",
        "import time\n",
        "import pandas as pd \n",
        "\n",
        "# openai key\n",
        "openai.api_key = \"\" # insert api key here\n",
        "\n",
        "def generate_images():\n",
        "    random_index = random.randint(0,4) # select a random index between 0 and 4\n",
        "    # to generate positive negative image pairs\n",
        "    positive_prompt = f\"a realistic portrait photograph of a {positive_list[random_index]}\" \n",
        "    negative_prompt = f\"a realistic portrait photograph of a {negative_list[random_index]}\"\n",
        "\n",
        "    pos_image_resp = openai.Image.create(prompt= positive_prompt, n=2, size=\"512x512\") # creating two images of positive query\n",
        "    pos_img_resp_full = [positive_prompt, pos_image_resp] # storing the query and the response\n",
        "    neg_image_resp = openai.Image.create(prompt= negative_prompt, n=2, size=\"512x512\") # creating two images of negative query\n",
        "    time.sleep(60)\n",
        "    neg_img_resp_full = [negative_prompt, neg_image_resp] # passing it as doubly nested list\n",
        "\n",
        "    return [pos_img_resp_full, neg_img_resp_full]\n"
      ]
    },
    {
      "attachments": {},
      "cell_type": "markdown",
      "id": "1f30f7fa",
      "metadata": {},
      "source": [
        "<img src=\"https://drive.google.com/uc?id=1KQRqwFXI2gWntjOgVJMjrYOjv4Y-P7HP\" width=\"320\" height=\"320\" />\n",
        "\n",
        "- Image generated by DallE-2 \"reliable person\""
      ]
    },
    {
      "attachments": {},
      "cell_type": "markdown",
      "id": "5da280ba",
      "metadata": {},
      "source": [
        "Next, we can use the requests libray to save the generated image to the specified output directory. We create the function `save_images()` that can be used in a for loop for repetitive usage. "
      ]
    },
    {
      "cell_type": "code",
      "execution_count": null,
      "id": "731cc3d1",
      "metadata": {},
      "outputs": [],
      "source": [
        "def save_images(pos_neg_resp, s3, bucket, batch_counter, file_counter):\n",
        "    for resp_full in pos_neg_resp: # takes doubly nested list, where each nested list has queries and results\n",
        "        original_prompt = resp_full[0] # prompt of current result\n",
        "        resp = resp_full[-1] # resulting json response\n",
        "        img_url_1 = resp[\"data\"][0][\"url\"]  # extract first image URL from response\n",
        "        generated_image_1 = requests.get(img_url_1).content  # download the first image\n",
        "        file_name_1 = f\"{output_folder_name}/batch_{str(batch_counter).zfill(2)}_image_{str(file_counter).zfill(3)}_{original_prompt}.jpg\"\n",
        "        s3.put_object(Bucket=bucket, Key=file_name_1, Body=generated_image_1)\n",
        "        file_counter+=1\n",
        "        \n",
        "        # repeat same process for second image created from the same prompt\n",
        "        img_url_2 = resp[\"data\"][1][\"url\"]\n",
        "        generated_image_2 = requests.get(img_url_2).content  # download the image\n",
        "        file_name_2= f\"{output_folder_name}/batch_{str(batch_counter).zfill(2)}_image_{str(file_counter).zfill(3)}_{original_prompt}.jpg\"\n",
        "        s3.put_object(Bucket=bucket, Key=file_name_2, Body=generated_image_2)\n",
        "        file_counter+=1 # counter variable for filenaming\n",
        "\n",
        "    return file_counter"
      ]
    },
    {
      "attachments": {},
      "cell_type": "markdown",
      "id": "2aa41e5c",
      "metadata": {},
      "source": [
        "Below are funtions that allow us to use `save_images()` function in a loop. \n",
        "We use `generate_100_image_pairs()` for generating total of 400 images. (2 positive images, 2 negative images repeated for 100 times)\n",
        "Then, we use `generate_500_image_pairs()` for generateing these 400 images in batches, in case of any errors during the API call. "
      ]
    },
    {
      "cell_type": "code",
      "execution_count": null,
      "id": "c0ea5387",
      "metadata": {},
      "outputs": [],
      "source": [
        "def generate_100_image_pairs(s3, bucket, batch_counter):\n",
        "    file_counter = 1\n",
        "    for _ in range(0,100):\n",
        "        pair_pos_neg_resp = generate_images() # 4 images per pair of positive (2) and negative (2) queries\n",
        "        file_counter = save_images(pair_pos_neg_resp, s3, bucket, batch_counter, file_counter)\n",
        "\n",
        "def generate_500_image_pairs(s3, bucket): # work in batches\n",
        "    for i in range(0,5):\n",
        "        generate_100_image_pairs(s3, bucket, i+1)\n",
        "\n",
        "\n",
        "generate_500_image_pairs(s3_client, bucket)"
      ]
    },
    {
      "attachments": {},
      "cell_type": "markdown",
      "id": "94391ebe",
      "metadata": {},
      "source": [
        "## Walkthrough of Rekognition API\n",
        "\n",
        "After we generated the images, we are ready to feed them into the Rekognition API. \n",
        "We check our s3 bucket and save all the filenames as a list using `aws_extract_filenames()`"
      ]
    },
    {
      "cell_type": "code",
      "execution_count": null,
      "id": "a76a07ed",
      "metadata": {},
      "outputs": [],
      "source": [
        "def aws_extract_filenames(s3, bucket, output_folder_name):\n",
        "    response = s3.list_objects_v2(Bucket=bucket, Prefix=output_folder_name) #bucket = \"350final\", output_folder_name = \"images_generated\"\n",
        "\n",
        "    # Extracting the filenames from the response\n",
        "    filenames = []\n",
        "    for obj in response.get('Contents', []):\n",
        "        filenames.append(obj['Key'].split('/')[-1]) \n",
        "    filenames = filenames[1:] # removing the first entry which is an empty string\n",
        "    return filenames\n",
        "\n",
        "filelist= aws_extract_filenames(s3_client, bucket, output_folder_name)"
      ]
    },
    {
      "attachments": {},
      "cell_type": "markdown",
      "id": "addb89d4",
      "metadata": {},
      "source": [
        "Now that we have all the filenames, we can tell Rekognition what images to process and where the images are. We first instatiate the Rekognition API by calling `boto3.client(service_name = \"rekognition\", region_name = region)`\n",
        "\n",
        "The the `.detect_faces()` will return the API request results, and from that we extract, age range, which is averaged into single age and gender. We save these in a list and return it to be organized into a dataframe. "
      ]
    },
    {
      "cell_type": "code",
      "execution_count": null,
      "id": "ff005945-900e-49b1-a580-657b77d14943",
      "metadata": {
        "id": "ff005945-900e-49b1-a580-657b77d14943"
      },
      "outputs": [],
      "source": [
        "def rekognize_faces(filenames, region, bucket, output_folder_name):\n",
        "    rkgAPI = boto3.client(service_name = \"rekognition\", region_name = region) # instantiating rekognition API\n",
        "    resp_list = [] # saving the API responses in a list\n",
        "    for filename in filenames:\n",
        "        s3_file_name = output_folder_name+\"/\"+filename\n",
        "        try:\n",
        "            response = rkgAPI.detect_faces(Image={'S3Object':{'Bucket':bucket, 'Name': s3_file_name }},\n",
        "                                       Attributes=['ALL']) # main API call\n",
        "            facedetails = response[\"FaceDetails\"][0] \n",
        "            age_range = facedetails['AgeRange'] \n",
        "            age = round((age_range.get(\"Low\")+age_range.get(\"High\"))/2)\n",
        "            gender = facedetails['Gender']\n",
        "            resp_list.append([filename, age, gender.get(\"Value\"), gender.get(\"Confidence\")])\n",
        "        except:\n",
        "            resp_list.append([filename, \"****\", \"****\", \"****\"])\n",
        "    return resp_list\n"
      ]
    },
    {
      "attachments": {},
      "cell_type": "markdown",
      "id": "f5db9a5f",
      "metadata": {},
      "source": [
        "After the results are saved into a list, we use `rekog_format_df()` to transform the results into a df and we save the resulting dataframe as a csv in our S3 Bucket. "
      ]
    },
    {
      "cell_type": "code",
      "execution_count": null,
      "id": "6c095d28",
      "metadata": {},
      "outputs": [],
      "source": [
        "def rekog_format_df(rekognize_resps):\n",
        "    cols = [\"imgFile\", \"AgeRekog\", \"GenderRekog\", \"GenderConf\"]\n",
        "    df = pd.DataFrame(rekognize_resps, columns = cols)\n",
        "    return df\n",
        "\n",
        "\n",
        "rekognized_responses = rekognize_faces(filelist, output_folder_name)\n",
        "rekog_df = rekog_format_df(rekognized_responses)\n",
        "csv_buffer = rekog_df.to_csv(index=False)\n",
        "s3_client.Object(bucket, \"rekognition_results.csv\").put(Body=csv_buffer)  # writing the df as csv into our S3 bucket\n"
      ]
    },
    {
      "attachments": {},
      "cell_type": "markdown",
      "id": "f25e6cbf",
      "metadata": {},
      "source": [
        "## Set up for DeepFace\n",
        "\n",
        "After we generated the images, and processed them with Rekognition, we must transfer the data onto google drive as well. This is because DeepFace is not able to run in AWS Sagemaker due to lack of support for some dependent packages (especially, opencv). We attempted to install glib, and uninstall opencv-python to reinstall with opencv-python-headless but all efforts failed. Due to this issue, we compress our output folder in the S3 bucket and transfer it into google drive."
      ]
    },
    {
      "attachments": {},
      "cell_type": "markdown",
      "id": "9879b3a9",
      "metadata": {},
      "source": [
        "We had to compress the s3 output folder because we don't have access to local AWS CLI and AWS S3 does not support multiple file download. In order to compress the s3 output folder into .zip for transfer into google drive, we use `zip_s3_folder()`"
      ]
    },
    {
      "cell_type": "code",
      "execution_count": null,
      "id": "b2d61825-06a0-49c8-be06-68dd42f6e623",
      "metadata": {
        "id": "b2d61825-06a0-49c8-be06-68dd42f6e623"
      },
      "outputs": [],
      "source": [
        "import io\n",
        "import zipfile\n",
        "\n",
        "\n",
        "def zip_s3_folder(s3, bucket, output_folder_name):\n",
        "    # Create a byte stream object to hold the compressed data\n",
        "    data = io.BytesIO()\n",
        "\n",
        "    # Create a ZipFile object to write the compressed data to the byte stream\n",
        "    with zipfile.ZipFile(data, mode='w', compression=zipfile.ZIP_DEFLATED) as zip_file:\n",
        "        # Loop through each file in the folder\n",
        "        for obj in s3.list_objects(Bucket=bucket, Prefix=output_folder_name)['Contents']:\n",
        "            if obj['Key'] == \"images_test.tar.gz\" or obj['Key'] == \"images_test/\":\n",
        "                pass\n",
        "            else:\n",
        "                # Get the file data from S3\n",
        "                file_obj = s3.get_object(Bucket=bucket, Key=obj['Key'])\n",
        "                # Read the file data into memory\n",
        "                file_data = file_obj['Body'].read()\n",
        "                # Add the file data to the ZipFile object\n",
        "                zip_file.writestr(obj['Key'].replace(output_folder_name + '/', ''), file_data)\n",
        "\n",
        "    # Reset the byte stream pointer to the beginning\n",
        "    data.seek(0)\n",
        "\n",
        "    # Upload the compressed data to S3\n",
        "    s3.upload_fileobj(data, bucket, output_folder_name + '.zip')\n",
        "\n",
        "zip_s3_folder(s3_client, bucket, output_folder_name)"
      ]
    },
    {
      "attachments": {},
      "cell_type": "markdown",
      "id": "15300456",
      "metadata": {},
      "source": [
        "The .zip file will be in the s3 bucket and now we can easily download and transfer it into google drive. Once we know the path of the .zip file in our google drive, and set the destination folder for uncompressing, we can uncompress the zip file within google drive using Colab. We do this by using `gdrive_uncompress()`."
      ]
    },
    {
      "cell_type": "code",
      "execution_count": null,
      "id": "e7c973a5",
      "metadata": {},
      "outputs": [],
      "source": [
        "from google.colab import drive\n",
        "import zipfile\n",
        "drive.mount('/content/drive')\n",
        "\n",
        "zip_file_path = '/content/drive/MyDrive/images_generated.zip' # google drive path of the zip file\n",
        "destination_folder = '/content/drive/MyDrive/imgs_uncompressed/' # google drive path of where to uncompress the zip file\n",
        "\n",
        "def gdrive_uncompress(zip_i_path, zip_o_path):\n",
        "    # Open the zip file\n",
        "    with zipfile.ZipFile(zip_i_path, 'r') as zip_ref:\n",
        "        # Extract all the files to the destination folder\n",
        "        zip_ref.extractall(zip_o_path)\n",
        "\n",
        "gdrive_uncompress(zip_file_path, destination_folder)"
      ]
    },
    {
      "attachments": {},
      "cell_type": "markdown",
      "id": "02f15362",
      "metadata": {},
      "source": [
        "## Walkthrough of DeepFace API\n",
        "Now that it is uncompressed in our desired folder, we can loop through this folder to feed the images into the DeepFace API. We install the package by calling a simple pip install command. "
      ]
    },
    {
      "cell_type": "code",
      "execution_count": null,
      "id": "30e53a42-99f1-4cd7-a39f-8b1921d773cd",
      "metadata": {
        "id": "30e53a42-99f1-4cd7-a39f-8b1921d773cd"
      },
      "outputs": [],
      "source": [
        "!pip install deepface"
      ]
    },
    {
      "attachments": {},
      "cell_type": "markdown",
      "id": "9c1eb087",
      "metadata": {},
      "source": [
        "Using similar logic from `rekognize_faces()`, we feed each image into the DeepFace API. The DeepFace API works with opencv as a default backend, but it also offers 5 other backend models: ssd, dlib, mtcnn, retinaface and mediapipe. When opencv fails to recognize a face, we wanted to be able to utilize these other backend models to see if any other model could detect a face. In order to achieve this, inside `deepface_faces()`, we used python's try except feature and nested it multiple times within a for loop. The DeepFace results contain age, gender and race, so we extract them and save it in a list. "
      ]
    },
    {
      "cell_type": "code",
      "execution_count": null,
      "id": "7ba00353-f638-42c1-8153-cbfe571462cf",
      "metadata": {
        "id": "7ba00353-f638-42c1-8153-cbfe571462cf"
      },
      "outputs": [],
      "source": [
        "from deepface import DeepFace\n",
        "import os\n",
        "\n",
        "def deepface_faces(uncompressed_folder_path):\n",
        "    backends = [\"opencv\", \"ssd\", \"dlib\", \"mtcnn\", \"retinaface\", \"mediapipe\"]\n",
        "    deepface_data = []\n",
        "    for f in os.listdir(uncompressed_folder_path):\n",
        "        objs = \"\"  # set response as empty string initially for each loop\n",
        "        try:  # try the default run (using opencv backend)\n",
        "            objs = DeepFace.analyze(\n",
        "                img_path=os.path.join(uncompressed_folder_path, f),\n",
        "                actions=[\"age\", \"gender\", \"race\"],\n",
        "            )\n",
        "        except:  # if opencv does not detect any faces, it raises an error\n",
        "            for model_no in range(\n",
        "                1, 7\n",
        "            ):  # we try running through other backend models to see if they can detect faces\n",
        "                try:\n",
        "                    objs = DeepFace.analyze(\n",
        "                        img_path=os.path.join(uncompressed_folder_path, f),\n",
        "                        actions=[\"age\", \"gender\", \"race\"],\n",
        "                        detector_backend=backends[model_no],\n",
        "                    )\n",
        "                    break\n",
        "                except:  # even after failing opencv, and all other backend models, we just pass\n",
        "                    pass  # then the objs is still empty string\n",
        "        if objs == \"\":  # if no face was detected\n",
        "            deepface_data.append([f, \"****\", \"****\", \"****\", \"****\", \"****\"])\n",
        "        else:\n",
        "            age = objs[0].get(\"age\")\n",
        "            gender = objs[0].get(\"dominant_gender\")\n",
        "            gender_conf = objs[0].get(\"gender\").get(gender)\n",
        "            dominant_race = objs[0].get(\"dominant_race\")\n",
        "            dominant_race_conf = objs[0].get(\"race\").get(dominant_race)\n",
        "            deepface_data.append(\n",
        "                [f, age, gender, gender_conf, dominant_race, dominant_race_conf]\n",
        "            )\n",
        "    return deepface_data\n"
      ]
    },
    {
      "attachments": {},
      "cell_type": "markdown",
      "id": "44d42dc2",
      "metadata": {},
      "source": [
        "Once all the faces are analyzed and the results are saved in a list, we use a similar function to `rekog_format_df()`, `deepface_format_df()`. This time, however, since we are in google colab environment, we save it directly to our working directory."
      ]
    },
    {
      "cell_type": "code",
      "execution_count": null,
      "id": "044dafa1",
      "metadata": {},
      "outputs": [],
      "source": [
        "def deepface_format_df(deepface_data):\n",
        "    cols = [\n",
        "        \"imgFile\",\n",
        "        \"Age\",\n",
        "        \"GenderDpFa\",\n",
        "        \"GenderConfDpFa\",\n",
        "        \"RaceDpFa\",\n",
        "        \"RaceConfDpFa\",\n",
        "    ]\n",
        "    df = pd.DataFrame(data=deepface_data, columns= cols)\n",
        "    return df\n",
        "\n",
        "\n",
        "deepface_results = deepface_faces(destination_folder)\n",
        "df_df = deepface_format_df(deepface_results)\n",
        "output_filename = \"deepface_results.csv\"\n",
        "df_df.to_csv(output_filename, index=False)  # upload this to S3"
      ]
    },
    {
      "attachments": {},
      "cell_type": "markdown",
      "id": "d5f47aa8",
      "metadata": {},
      "source": [
        "When the DeepFace dataframe is saved into a csv file, we transfer this back into our S3 bucket and save it in the same location as the `rekognition_results.csv`. \n",
        "\n",
        "Then, in our SageMaker environment we can access both analysis results, and combine them for a full dataframe using `join_rekog_deepface_dfs()`. Inside the function, we standardize the DeepFace gender values to be equal to Rekognize gender values. "
      ]
    },
    {
      "cell_type": "code",
      "execution_count": null,
      "id": "fed771e6-9af4-43f2-8b3e-599a5556c0b7",
      "metadata": {
        "id": "fed771e6-9af4-43f2-8b3e-599a5556c0b7"
      },
      "outputs": [],
      "source": [
        "def join_rekog_deepface_dfs(s3, bucket, rekog_filename, deepface_filename):\n",
        "    rekog_obj = s3.get_object(Bucket=bucket, Key=rekog_filename)\n",
        "    rekog_df = pd.read_csv(rekog_obj['Body'])\n",
        "    deepface_obj = s3.get_object(Bucket=bucket, Key=deepface_filename)\n",
        "    deepface_df = pd.read_csv(deepface_obj['Body'])\n",
        "\n",
        "    deepface_df['GenderDpFa'] = [\"Male\" if x == \"Man\" else \"Female\" if x == \"Woman\" else x for x in deepface_df['GenderDpFa']] \n",
        "    \n",
        "    master_df = pd.DataFrame()\n",
        "    imgfiles = deepface_df['imgFile'].tolist()\n",
        "    master_df['imgFile'] = imgfiles\n",
        "\n",
        "    master_df['query'] = [\" \".join(q.split(\"_\")[4][:-4].split()[-2:]).strip() for q in imgfiles]\n",
        "    master_df['AgeRekog'] = rekog_df['AgeRekog']\n",
        "    master_df['AgeDpFa'] = deepface_df['AgeDpFa']\n",
        "\n",
        "    master_df['GenderRekog'] = rekog_df['Gender']\n",
        "    master_df['GenderConfRekog'] = rekog_df['Gender Confidence']\n",
        "    master_df['GenderDpFa'] = deepface_df['GenderDpFa']\n",
        "    master_df['GenderConfDpFa'] = deepface_df['GenderConfDpFa']\n",
        "\n",
        "    master_df['RaceDpFa'] = deepface_df['RaceDpFa']\n",
        "    master_df['RaceConfDpFa'] = deepface_df['RaceConfDpFa']\n",
        "    return master_df\n",
        "\n",
        "final_df = join_rekog_deepface_dfs(s3_client, bucket,\"rekognition_results.csv\", \"deepface_results.csv\")\n",
        "final_csv_buffer = final_df.to_csv(index=False)\n",
        "s3_client.Object(bucket, \"final_results.csv\").put(Body=final_csv_buffer)  # writing the df as csv into our S3 bucket\n"
      ]
    },
    {
      "attachments": {},
      "cell_type": "markdown",
      "id": "6db3f08f",
      "metadata": {},
      "source": [
        "## Regression Analysis"
      ]
    },
    {
      "attachments": {},
      "cell_type": "markdown",
      "id": "fd38b7df",
      "metadata": {},
      "source": [
        "Before we perform any regression analysis, we hypothesized that white males will be asscociated with more positive prompts. "
      ]
    },
    {
      "cell_type": "code",
      "execution_count": 2,
      "id": "WqNS5ZTN5-m_",
      "metadata": {
        "id": "WqNS5ZTN5-m_"
      },
      "outputs": [],
      "source": [
        "import pandas as pd\n",
        "import seaborn as sns\n",
        "import matplotlib.pyplot as plt\n",
        "import numpy as np"
      ]
    },
    {
      "attachments": {},
      "cell_type": "markdown",
      "id": "e8cfcf65",
      "metadata": {},
      "source": [
        "We read the final output file saved in our S3 bucket, and prepare it for Regression Analysis."
      ]
    },
    {
      "cell_type": "code",
      "execution_count": null,
      "id": "4GyGgJVS6CIV",
      "metadata": {
        "id": "4GyGgJVS6CIV"
      },
      "outputs": [],
      "source": [
        "final_obj = s3_client.get_object(Bucket=bucket, Key=\"final_results.csv\")\n",
        "df = pd.read_csv(final_obj['Body'])"
      ]
    },
    {
      "attachments": {},
      "cell_type": "markdown",
      "id": "4b416538",
      "metadata": {},
      "source": [
        "There were some images that could not been processed through the API. They contained '****', and these rows will be dropped."
      ]
    },
    {
      "cell_type": "code",
      "execution_count": 4,
      "id": "uHyLN3bR6T1K",
      "metadata": {
        "id": "uHyLN3bR6T1K"
      },
      "outputs": [
        {
          "data": {
            "text/html": [
              "<div>\n",
              "<style scoped>\n",
              "    .dataframe tbody tr th:only-of-type {\n",
              "        vertical-align: middle;\n",
              "    }\n",
              "\n",
              "    .dataframe tbody tr th {\n",
              "        vertical-align: top;\n",
              "    }\n",
              "\n",
              "    .dataframe thead th {\n",
              "        text-align: right;\n",
              "    }\n",
              "</style>\n",
              "<table border=\"1\" class=\"dataframe\">\n",
              "  <thead>\n",
              "    <tr style=\"text-align: right;\">\n",
              "      <th></th>\n",
              "      <th>imgFile</th>\n",
              "      <th>query</th>\n",
              "      <th>group</th>\n",
              "      <th>AgeRekog</th>\n",
              "      <th>AgeDpFa</th>\n",
              "      <th>GenderRekog</th>\n",
              "      <th>GenderConfRekog</th>\n",
              "      <th>GenderDpFa</th>\n",
              "      <th>GenderConfDpFa</th>\n",
              "      <th>RaceDpFa</th>\n",
              "      <th>RaceConfDpFa</th>\n",
              "    </tr>\n",
              "  </thead>\n",
              "  <tbody>\n",
              "    <tr>\n",
              "      <th>0</th>\n",
              "      <td>batch_02_image_001_a realistic portrait photog...</td>\n",
              "      <td>reliable person</td>\n",
              "      <td>4</td>\n",
              "      <td>24.0</td>\n",
              "      <td>28.0</td>\n",
              "      <td>Male</td>\n",
              "      <td>99.988693</td>\n",
              "      <td>Male</td>\n",
              "      <td>99.999380</td>\n",
              "      <td>indian</td>\n",
              "      <td>98.178869</td>\n",
              "    </tr>\n",
              "    <tr>\n",
              "      <th>1</th>\n",
              "      <td>batch_02_image_002_a realistic portrait photog...</td>\n",
              "      <td>reliable person</td>\n",
              "      <td>4</td>\n",
              "      <td>55.0</td>\n",
              "      <td>44.0</td>\n",
              "      <td>Male</td>\n",
              "      <td>99.992767</td>\n",
              "      <td>Male</td>\n",
              "      <td>99.910164</td>\n",
              "      <td>white</td>\n",
              "      <td>36.552869</td>\n",
              "    </tr>\n",
              "    <tr>\n",
              "      <th>2</th>\n",
              "      <td>batch_02_image_003_a realistic portrait photog...</td>\n",
              "      <td>unreliable person</td>\n",
              "      <td>4</td>\n",
              "      <td>34.0</td>\n",
              "      <td>40.0</td>\n",
              "      <td>Male</td>\n",
              "      <td>98.716713</td>\n",
              "      <td>Male</td>\n",
              "      <td>51.742309</td>\n",
              "      <td>white</td>\n",
              "      <td>22.655165</td>\n",
              "    </tr>\n",
              "    <tr>\n",
              "      <th>3</th>\n",
              "      <td>batch_02_image_004_a realistic portrait photog...</td>\n",
              "      <td>unreliable person</td>\n",
              "      <td>4</td>\n",
              "      <td>27.0</td>\n",
              "      <td>33.0</td>\n",
              "      <td>Male</td>\n",
              "      <td>98.144150</td>\n",
              "      <td>Male</td>\n",
              "      <td>98.924035</td>\n",
              "      <td>indian</td>\n",
              "      <td>60.428844</td>\n",
              "    </tr>\n",
              "    <tr>\n",
              "      <th>4</th>\n",
              "      <td>batch_02_image_005_a realistic portrait photog...</td>\n",
              "      <td>agreeable person</td>\n",
              "      <td>2</td>\n",
              "      <td>31.0</td>\n",
              "      <td>31.0</td>\n",
              "      <td>Male</td>\n",
              "      <td>99.995544</td>\n",
              "      <td>Male</td>\n",
              "      <td>99.974221</td>\n",
              "      <td>indian</td>\n",
              "      <td>83.304148</td>\n",
              "    </tr>\n",
              "    <tr>\n",
              "      <th>...</th>\n",
              "      <td>...</td>\n",
              "      <td>...</td>\n",
              "      <td>...</td>\n",
              "      <td>...</td>\n",
              "      <td>...</td>\n",
              "      <td>...</td>\n",
              "      <td>...</td>\n",
              "      <td>...</td>\n",
              "      <td>...</td>\n",
              "      <td>...</td>\n",
              "      <td>...</td>\n",
              "    </tr>\n",
              "    <tr>\n",
              "      <th>855</th>\n",
              "      <td>batch_10_image_268_a realistic portrait photog...</td>\n",
              "      <td>unreliable person</td>\n",
              "      <td>4</td>\n",
              "      <td>44.0</td>\n",
              "      <td>34.0</td>\n",
              "      <td>Male</td>\n",
              "      <td>99.538750</td>\n",
              "      <td>Male</td>\n",
              "      <td>98.566753</td>\n",
              "      <td>white</td>\n",
              "      <td>91.698527</td>\n",
              "    </tr>\n",
              "    <tr>\n",
              "      <th>856</th>\n",
              "      <td>batch_10_image_269_a realistic portrait photog...</td>\n",
              "      <td>reliable person</td>\n",
              "      <td>4</td>\n",
              "      <td>29.0</td>\n",
              "      <td>32.0</td>\n",
              "      <td>Male</td>\n",
              "      <td>99.956039</td>\n",
              "      <td>Male</td>\n",
              "      <td>99.944478</td>\n",
              "      <td>asian</td>\n",
              "      <td>30.760741</td>\n",
              "    </tr>\n",
              "    <tr>\n",
              "      <th>857</th>\n",
              "      <td>batch_10_image_270_a realistic portrait photog...</td>\n",
              "      <td>reliable person</td>\n",
              "      <td>4</td>\n",
              "      <td>24.0</td>\n",
              "      <td>35.0</td>\n",
              "      <td>Male</td>\n",
              "      <td>99.943092</td>\n",
              "      <td>Male</td>\n",
              "      <td>99.968672</td>\n",
              "      <td>indian</td>\n",
              "      <td>92.079234</td>\n",
              "    </tr>\n",
              "    <tr>\n",
              "      <th>858</th>\n",
              "      <td>batch_10_image_271_a realistic portrait photog...</td>\n",
              "      <td>unreliable person</td>\n",
              "      <td>4</td>\n",
              "      <td>44.0</td>\n",
              "      <td>32.0</td>\n",
              "      <td>Male</td>\n",
              "      <td>99.980530</td>\n",
              "      <td>Male</td>\n",
              "      <td>99.998653</td>\n",
              "      <td>white</td>\n",
              "      <td>59.593051</td>\n",
              "    </tr>\n",
              "    <tr>\n",
              "      <th>859</th>\n",
              "      <td>batch_10_image_272_a realistic portrait photog...</td>\n",
              "      <td>unreliable person</td>\n",
              "      <td>4</td>\n",
              "      <td>18.0</td>\n",
              "      <td>25.0</td>\n",
              "      <td>Male</td>\n",
              "      <td>99.972763</td>\n",
              "      <td>Male</td>\n",
              "      <td>99.848652</td>\n",
              "      <td>asian</td>\n",
              "      <td>23.699750</td>\n",
              "    </tr>\n",
              "  </tbody>\n",
              "</table>\n",
              "<p>839 rows × 11 columns</p>\n",
              "</div>"
            ],
            "text/plain": [
              "                                               imgFile              query  \\\n",
              "0    batch_02_image_001_a realistic portrait photog...    reliable person   \n",
              "1    batch_02_image_002_a realistic portrait photog...    reliable person   \n",
              "2    batch_02_image_003_a realistic portrait photog...  unreliable person   \n",
              "3    batch_02_image_004_a realistic portrait photog...  unreliable person   \n",
              "4    batch_02_image_005_a realistic portrait photog...   agreeable person   \n",
              "..                                                 ...                ...   \n",
              "855  batch_10_image_268_a realistic portrait photog...  unreliable person   \n",
              "856  batch_10_image_269_a realistic portrait photog...    reliable person   \n",
              "857  batch_10_image_270_a realistic portrait photog...    reliable person   \n",
              "858  batch_10_image_271_a realistic portrait photog...  unreliable person   \n",
              "859  batch_10_image_272_a realistic portrait photog...  unreliable person   \n",
              "\n",
              "     group  AgeRekog  AgeDpFa GenderRekog  GenderConfRekog GenderDpFa  \\\n",
              "0        4      24.0     28.0        Male        99.988693       Male   \n",
              "1        4      55.0     44.0        Male        99.992767       Male   \n",
              "2        4      34.0     40.0        Male        98.716713       Male   \n",
              "3        4      27.0     33.0        Male        98.144150       Male   \n",
              "4        2      31.0     31.0        Male        99.995544       Male   \n",
              "..     ...       ...      ...         ...              ...        ...   \n",
              "855      4      44.0     34.0        Male        99.538750       Male   \n",
              "856      4      29.0     32.0        Male        99.956039       Male   \n",
              "857      4      24.0     35.0        Male        99.943092       Male   \n",
              "858      4      44.0     32.0        Male        99.980530       Male   \n",
              "859      4      18.0     25.0        Male        99.972763       Male   \n",
              "\n",
              "     GenderConfDpFa RaceDpFa  RaceConfDpFa  \n",
              "0         99.999380   indian     98.178869  \n",
              "1         99.910164    white     36.552869  \n",
              "2         51.742309    white     22.655165  \n",
              "3         98.924035   indian     60.428844  \n",
              "4         99.974221   indian     83.304148  \n",
              "..              ...      ...           ...  \n",
              "855       98.566753    white     91.698527  \n",
              "856       99.944478    asian     30.760741  \n",
              "857       99.968672   indian     92.079234  \n",
              "858       99.998653    white     59.593051  \n",
              "859       99.848652    asian     23.699750  \n",
              "\n",
              "[839 rows x 11 columns]"
            ]
          },
          "execution_count": 4,
          "metadata": {},
          "output_type": "execute_result"
        }
      ],
      "source": [
        "# delete rows that could not been processed\n",
        "df.replace('****', float('nan'), inplace=True)\n",
        "df.dropna(inplace=True)\n",
        "len(df)\n",
        "df"
      ]
    },
    {
      "attachments": {},
      "cell_type": "markdown",
      "id": "a3bc9683",
      "metadata": {},
      "source": [
        "21 rows deleted"
      ]
    },
    {
      "attachments": {},
      "cell_type": "markdown",
      "id": "9000e7eb",
      "metadata": {},
      "source": [
        "There some difference between gender predictions made by the DeepFace API and Amazon Rekognition API. We went through few samples that had differentpredictions, and we chose DeepFace API as our gender predictor since it was more accurate."
      ]
    },
    {
      "cell_type": "code",
      "execution_count": 5,
      "id": "2Fo0lNtX6XL4",
      "metadata": {
        "id": "2Fo0lNtX6XL4"
      },
      "outputs": [
        {
          "data": {
            "text/plain": [
              "1    825\n",
              "0     14\n",
              "Name: Gender, dtype: int64"
            ]
          },
          "execution_count": 5,
          "metadata": {},
          "output_type": "execute_result"
        }
      ],
      "source": [
        "# recoding the 'Gender variable'\n",
        "df['Gender'] = df['GenderDpFa']\n",
        "df.loc[df['Gender'] == 'Male', 'Gender'] = 1\n",
        "df.loc[df['Gender'] == 'Female', 'Gender'] = 0\n",
        "df['Gender'].value_counts()"
      ]
    },
    {
      "attachments": {},
      "cell_type": "markdown",
      "id": "9d5da524",
      "metadata": {},
      "source": [
        "We created a pie plot to see the gender distribution in the dataset."
      ]
    },
    {
      "cell_type": "code",
      "execution_count": 7,
      "id": "-7Ao_bTh6XzY",
      "metadata": {
        "id": "-7Ao_bTh6XzY"
      },
      "outputs": [
        {
          "name": "stdout",
          "output_type": "stream",
          "text": [
            "Gender distribution in the dataset\n",
            "1    825\n",
            "0     14\n",
            "Name: Gender, dtype: int64\n"
          ]
        },
        {
          "data": {
            "image/png": "[encoded data removed]",
            "text/plain": [
              "<Figure size 640x480 with 1 Axes>"
            ]
          },
          "metadata": {},
          "output_type": "display_data"
        }
      ],
      "source": [
        "# pie chart to show gender distribution\n",
        "print('Gender distribution in the dataset')\n",
        "print(df['Gender'].value_counts())\n",
        "\n",
        "#creating a pie chart\n",
        "labels='Male','Female'\n",
        "sizes=[825, 14]\n",
        "explode=(0.1,0)\n",
        "fig1, ax1 = plt.subplots()\n",
        "ax1.pie(sizes, explode=explode, labels=labels, autopct='%1.0f%%',\n",
        "        shadow=True, startangle=90)\n",
        "ax1.axis('equal')\n",
        "\n",
        "plt.show()"
      ]
    },
    {
      "attachments": {},
      "cell_type": "markdown",
      "id": "11331658",
      "metadata": {},
      "source": [
        "Most of the images were male, while our keywords were gender neutral. Therefore, we could tell that the AI can be biased."
      ]
    },
    {
      "attachments": {},
      "cell_type": "markdown",
      "id": "118b8a5b",
      "metadata": {},
      "source": [
        "There were some difference between age predictions made by the DeepFace API and Amazon Rekognition API. We went through few samples that had big gaps between the predictions, and we chose Amazon Rekognition API as our age predictor since it was more accurate."
      ]
    },
    {
      "cell_type": "code",
      "execution_count": 8,
      "id": "Jbk7ZOrD6Z65",
      "metadata": {
        "id": "Jbk7ZOrD6Z65"
      },
      "outputs": [],
      "source": [
        "# chose the 'AgeRekog' variable for age\n",
        "df['Age'] = df['AgeRekog']"
      ]
    },
    {
      "cell_type": "code",
      "execution_count": 18,
      "id": "d6bd15a2",
      "metadata": {},
      "outputs": [
        {
          "data": {
            "text/plain": [
              "Text(0.5, 1.0, 'Distribution of Ages')"
            ]
          },
          "execution_count": 18,
          "metadata": {},
          "output_type": "execute_result"
        },
        {
          "data": {
            "image/png": "[encoded data removed]",
            "text/plain": [
              "<Figure size 640x480 with 1 Axes>"
            ]
          },
          "metadata": {},
          "output_type": "display_data"
        }
      ],
      "source": [
        "sns.histplot(x = df['Age'])\n",
        "plt.title('Distribution of Ages')"
      ]
    },
    {
      "attachments": {},
      "cell_type": "markdown",
      "id": "53f32442",
      "metadata": {},
      "source": [
        "From this plot, we can see that the AI produces more images of people between the ages of 20 and 30. The AI seems to favor younger people. "
      ]
    },
    {
      "attachments": {},
      "cell_type": "markdown",
      "id": "7269dfb1",
      "metadata": {},
      "source": [
        "We selected variables to use for the regression."
      ]
    },
    {
      "cell_type": "code",
      "execution_count": 9,
      "id": "C_U2PRyY6cN1",
      "metadata": {
        "id": "C_U2PRyY6cN1"
      },
      "outputs": [
        {
          "data": {
            "text/html": [
              "<div>\n",
              "<style scoped>\n",
              "    .dataframe tbody tr th:only-of-type {\n",
              "        vertical-align: middle;\n",
              "    }\n",
              "\n",
              "    .dataframe tbody tr th {\n",
              "        vertical-align: top;\n",
              "    }\n",
              "\n",
              "    .dataframe thead th {\n",
              "        text-align: right;\n",
              "    }\n",
              "</style>\n",
              "<table border=\"1\" class=\"dataframe\">\n",
              "  <thead>\n",
              "    <tr style=\"text-align: right;\">\n",
              "      <th></th>\n",
              "      <th>imgFile</th>\n",
              "      <th>query</th>\n",
              "      <th>Age</th>\n",
              "      <th>Gender</th>\n",
              "      <th>RaceDpFa</th>\n",
              "    </tr>\n",
              "  </thead>\n",
              "  <tbody>\n",
              "    <tr>\n",
              "      <th>0</th>\n",
              "      <td>batch_02_image_001_a realistic portrait photog...</td>\n",
              "      <td>reliable person</td>\n",
              "      <td>24.0</td>\n",
              "      <td>1</td>\n",
              "      <td>indian</td>\n",
              "    </tr>\n",
              "    <tr>\n",
              "      <th>1</th>\n",
              "      <td>batch_02_image_002_a realistic portrait photog...</td>\n",
              "      <td>reliable person</td>\n",
              "      <td>55.0</td>\n",
              "      <td>1</td>\n",
              "      <td>white</td>\n",
              "    </tr>\n",
              "    <tr>\n",
              "      <th>2</th>\n",
              "      <td>batch_02_image_003_a realistic portrait photog...</td>\n",
              "      <td>unreliable person</td>\n",
              "      <td>34.0</td>\n",
              "      <td>1</td>\n",
              "      <td>white</td>\n",
              "    </tr>\n",
              "    <tr>\n",
              "      <th>3</th>\n",
              "      <td>batch_02_image_004_a realistic portrait photog...</td>\n",
              "      <td>unreliable person</td>\n",
              "      <td>27.0</td>\n",
              "      <td>1</td>\n",
              "      <td>indian</td>\n",
              "    </tr>\n",
              "    <tr>\n",
              "      <th>4</th>\n",
              "      <td>batch_02_image_005_a realistic portrait photog...</td>\n",
              "      <td>agreeable person</td>\n",
              "      <td>31.0</td>\n",
              "      <td>1</td>\n",
              "      <td>indian</td>\n",
              "    </tr>\n",
              "    <tr>\n",
              "      <th>...</th>\n",
              "      <td>...</td>\n",
              "      <td>...</td>\n",
              "      <td>...</td>\n",
              "      <td>...</td>\n",
              "      <td>...</td>\n",
              "    </tr>\n",
              "    <tr>\n",
              "      <th>855</th>\n",
              "      <td>batch_10_image_268_a realistic portrait photog...</td>\n",
              "      <td>unreliable person</td>\n",
              "      <td>44.0</td>\n",
              "      <td>1</td>\n",
              "      <td>white</td>\n",
              "    </tr>\n",
              "    <tr>\n",
              "      <th>856</th>\n",
              "      <td>batch_10_image_269_a realistic portrait photog...</td>\n",
              "      <td>reliable person</td>\n",
              "      <td>29.0</td>\n",
              "      <td>1</td>\n",
              "      <td>asian</td>\n",
              "    </tr>\n",
              "    <tr>\n",
              "      <th>857</th>\n",
              "      <td>batch_10_image_270_a realistic portrait photog...</td>\n",
              "      <td>reliable person</td>\n",
              "      <td>24.0</td>\n",
              "      <td>1</td>\n",
              "      <td>indian</td>\n",
              "    </tr>\n",
              "    <tr>\n",
              "      <th>858</th>\n",
              "      <td>batch_10_image_271_a realistic portrait photog...</td>\n",
              "      <td>unreliable person</td>\n",
              "      <td>44.0</td>\n",
              "      <td>1</td>\n",
              "      <td>white</td>\n",
              "    </tr>\n",
              "    <tr>\n",
              "      <th>859</th>\n",
              "      <td>batch_10_image_272_a realistic portrait photog...</td>\n",
              "      <td>unreliable person</td>\n",
              "      <td>18.0</td>\n",
              "      <td>1</td>\n",
              "      <td>asian</td>\n",
              "    </tr>\n",
              "  </tbody>\n",
              "</table>\n",
              "<p>839 rows × 5 columns</p>\n",
              "</div>"
            ],
            "text/plain": [
              "                                               imgFile              query  \\\n",
              "0    batch_02_image_001_a realistic portrait photog...    reliable person   \n",
              "1    batch_02_image_002_a realistic portrait photog...    reliable person   \n",
              "2    batch_02_image_003_a realistic portrait photog...  unreliable person   \n",
              "3    batch_02_image_004_a realistic portrait photog...  unreliable person   \n",
              "4    batch_02_image_005_a realistic portrait photog...   agreeable person   \n",
              "..                                                 ...                ...   \n",
              "855  batch_10_image_268_a realistic portrait photog...  unreliable person   \n",
              "856  batch_10_image_269_a realistic portrait photog...    reliable person   \n",
              "857  batch_10_image_270_a realistic portrait photog...    reliable person   \n",
              "858  batch_10_image_271_a realistic portrait photog...  unreliable person   \n",
              "859  batch_10_image_272_a realistic portrait photog...  unreliable person   \n",
              "\n",
              "      Age Gender RaceDpFa  \n",
              "0    24.0      1   indian  \n",
              "1    55.0      1    white  \n",
              "2    34.0      1    white  \n",
              "3    27.0      1   indian  \n",
              "4    31.0      1   indian  \n",
              "..    ...    ...      ...  \n",
              "855  44.0      1    white  \n",
              "856  29.0      1    asian  \n",
              "857  24.0      1   indian  \n",
              "858  44.0      1    white  \n",
              "859  18.0      1    asian  \n",
              "\n",
              "[839 rows x 5 columns]"
            ]
          },
          "execution_count": 9,
          "metadata": {},
          "output_type": "execute_result"
        }
      ],
      "source": [
        "df_final = df[['imgFile', 'query', 'Age', 'Gender', 'RaceDpFa']]\n",
        "df_final"
      ]
    },
    {
      "attachments": {},
      "cell_type": "markdown",
      "id": "4d2209ff",
      "metadata": {},
      "source": [
        "We created the 'Positive' variable. Positive 'query' values were coded 1 and negative 'query' values were coded 0."
      ]
    },
    {
      "cell_type": "code",
      "execution_count": null,
      "id": "Mwh2ZklC6d7l",
      "metadata": {
        "id": "Mwh2ZklC6d7l"
      },
      "outputs": [],
      "source": [
        "# categorizing keyword in to positive or negative\n",
        "df_final['Positive'] = np.nan\n",
        "df_final.loc[(df_final['query'] == 'reliable person') | (df_final['query'] == 'smart person') | (df_final['query'] == 'agreeable person') | (df_final['query'] == 'capable person') | (df_final['query'] == 'honest person'), 'Positive'] = 1\n",
        "df_final.loc[(df_final['query'] == 'unreliable person') | (df_final['query'] == 'dumb person') | (df_final['query'] == 'disagreeable person') | (df_final['query'] == 'incapable person') | (df_final['query'] == 'dishonest person'), 'Positive'] = 0"
      ]
    },
    {
      "cell_type": "code",
      "execution_count": 11,
      "id": "MEkEx-Wo6gzg",
      "metadata": {
        "id": "MEkEx-Wo6gzg"
      },
      "outputs": [
        {
          "data": {
            "text/plain": [
              "white              267\n",
              "indian             228\n",
              "asian              113\n",
              "latino hispanic     88\n",
              "middle eastern      88\n",
              "black               55\n",
              "Name: RaceDpFa, dtype: int64"
            ]
          },
          "execution_count": 11,
          "metadata": {},
          "output_type": "execute_result"
        }
      ],
      "source": [
        "df_final['RaceDpFa'].value_counts()"
      ]
    },
    {
      "attachments": {},
      "cell_type": "markdown",
      "id": "673a12c8",
      "metadata": {},
      "source": [
        "The 'RaceDpFa' is a categorical variable. In order to run the regression, we have to convert the variable into a dummy variable."
      ]
    },
    {
      "cell_type": "code",
      "execution_count": 12,
      "id": "ABRPG4Wi6i0L",
      "metadata": {
        "id": "ABRPG4Wi6i0L"
      },
      "outputs": [
        {
          "data": {
            "text/html": [
              "<div>\n",
              "<style scoped>\n",
              "    .dataframe tbody tr th:only-of-type {\n",
              "        vertical-align: middle;\n",
              "    }\n",
              "\n",
              "    .dataframe tbody tr th {\n",
              "        vertical-align: top;\n",
              "    }\n",
              "\n",
              "    .dataframe thead th {\n",
              "        text-align: right;\n",
              "    }\n",
              "</style>\n",
              "<table border=\"1\" class=\"dataframe\">\n",
              "  <thead>\n",
              "    <tr style=\"text-align: right;\">\n",
              "      <th></th>\n",
              "      <th>imgFile</th>\n",
              "      <th>query</th>\n",
              "      <th>Age</th>\n",
              "      <th>Gender</th>\n",
              "      <th>Positive</th>\n",
              "      <th>Race_asian</th>\n",
              "      <th>Race_black</th>\n",
              "      <th>Race_indian</th>\n",
              "      <th>Race_latino hispanic</th>\n",
              "      <th>Race_middle eastern</th>\n",
              "      <th>Race_white</th>\n",
              "    </tr>\n",
              "  </thead>\n",
              "  <tbody>\n",
              "    <tr>\n",
              "      <th>0</th>\n",
              "      <td>batch_02_image_001_a realistic portrait photog...</td>\n",
              "      <td>reliable person</td>\n",
              "      <td>24.0</td>\n",
              "      <td>1</td>\n",
              "      <td>1.0</td>\n",
              "      <td>0</td>\n",
              "      <td>0</td>\n",
              "      <td>1</td>\n",
              "      <td>0</td>\n",
              "      <td>0</td>\n",
              "      <td>0</td>\n",
              "    </tr>\n",
              "    <tr>\n",
              "      <th>1</th>\n",
              "      <td>batch_02_image_002_a realistic portrait photog...</td>\n",
              "      <td>reliable person</td>\n",
              "      <td>55.0</td>\n",
              "      <td>1</td>\n",
              "      <td>1.0</td>\n",
              "      <td>0</td>\n",
              "      <td>0</td>\n",
              "      <td>0</td>\n",
              "      <td>0</td>\n",
              "      <td>0</td>\n",
              "      <td>1</td>\n",
              "    </tr>\n",
              "    <tr>\n",
              "      <th>2</th>\n",
              "      <td>batch_02_image_003_a realistic portrait photog...</td>\n",
              "      <td>unreliable person</td>\n",
              "      <td>34.0</td>\n",
              "      <td>1</td>\n",
              "      <td>0.0</td>\n",
              "      <td>0</td>\n",
              "      <td>0</td>\n",
              "      <td>0</td>\n",
              "      <td>0</td>\n",
              "      <td>0</td>\n",
              "      <td>1</td>\n",
              "    </tr>\n",
              "    <tr>\n",
              "      <th>3</th>\n",
              "      <td>batch_02_image_004_a realistic portrait photog...</td>\n",
              "      <td>unreliable person</td>\n",
              "      <td>27.0</td>\n",
              "      <td>1</td>\n",
              "      <td>0.0</td>\n",
              "      <td>0</td>\n",
              "      <td>0</td>\n",
              "      <td>1</td>\n",
              "      <td>0</td>\n",
              "      <td>0</td>\n",
              "      <td>0</td>\n",
              "    </tr>\n",
              "    <tr>\n",
              "      <th>4</th>\n",
              "      <td>batch_02_image_005_a realistic portrait photog...</td>\n",
              "      <td>agreeable person</td>\n",
              "      <td>31.0</td>\n",
              "      <td>1</td>\n",
              "      <td>1.0</td>\n",
              "      <td>0</td>\n",
              "      <td>0</td>\n",
              "      <td>1</td>\n",
              "      <td>0</td>\n",
              "      <td>0</td>\n",
              "      <td>0</td>\n",
              "    </tr>\n",
              "    <tr>\n",
              "      <th>...</th>\n",
              "      <td>...</td>\n",
              "      <td>...</td>\n",
              "      <td>...</td>\n",
              "      <td>...</td>\n",
              "      <td>...</td>\n",
              "      <td>...</td>\n",
              "      <td>...</td>\n",
              "      <td>...</td>\n",
              "      <td>...</td>\n",
              "      <td>...</td>\n",
              "      <td>...</td>\n",
              "    </tr>\n",
              "    <tr>\n",
              "      <th>855</th>\n",
              "      <td>batch_10_image_268_a realistic portrait photog...</td>\n",
              "      <td>unreliable person</td>\n",
              "      <td>44.0</td>\n",
              "      <td>1</td>\n",
              "      <td>0.0</td>\n",
              "      <td>0</td>\n",
              "      <td>0</td>\n",
              "      <td>0</td>\n",
              "      <td>0</td>\n",
              "      <td>0</td>\n",
              "      <td>1</td>\n",
              "    </tr>\n",
              "    <tr>\n",
              "      <th>856</th>\n",
              "      <td>batch_10_image_269_a realistic portrait photog...</td>\n",
              "      <td>reliable person</td>\n",
              "      <td>29.0</td>\n",
              "      <td>1</td>\n",
              "      <td>1.0</td>\n",
              "      <td>1</td>\n",
              "      <td>0</td>\n",
              "      <td>0</td>\n",
              "      <td>0</td>\n",
              "      <td>0</td>\n",
              "      <td>0</td>\n",
              "    </tr>\n",
              "    <tr>\n",
              "      <th>857</th>\n",
              "      <td>batch_10_image_270_a realistic portrait photog...</td>\n",
              "      <td>reliable person</td>\n",
              "      <td>24.0</td>\n",
              "      <td>1</td>\n",
              "      <td>1.0</td>\n",
              "      <td>0</td>\n",
              "      <td>0</td>\n",
              "      <td>1</td>\n",
              "      <td>0</td>\n",
              "      <td>0</td>\n",
              "      <td>0</td>\n",
              "    </tr>\n",
              "    <tr>\n",
              "      <th>858</th>\n",
              "      <td>batch_10_image_271_a realistic portrait photog...</td>\n",
              "      <td>unreliable person</td>\n",
              "      <td>44.0</td>\n",
              "      <td>1</td>\n",
              "      <td>0.0</td>\n",
              "      <td>0</td>\n",
              "      <td>0</td>\n",
              "      <td>0</td>\n",
              "      <td>0</td>\n",
              "      <td>0</td>\n",
              "      <td>1</td>\n",
              "    </tr>\n",
              "    <tr>\n",
              "      <th>859</th>\n",
              "      <td>batch_10_image_272_a realistic portrait photog...</td>\n",
              "      <td>unreliable person</td>\n",
              "      <td>18.0</td>\n",
              "      <td>1</td>\n",
              "      <td>0.0</td>\n",
              "      <td>1</td>\n",
              "      <td>0</td>\n",
              "      <td>0</td>\n",
              "      <td>0</td>\n",
              "      <td>0</td>\n",
              "      <td>0</td>\n",
              "    </tr>\n",
              "  </tbody>\n",
              "</table>\n",
              "<p>839 rows × 11 columns</p>\n",
              "</div>"
            ],
            "text/plain": [
              "                                               imgFile              query  \\\n",
              "0    batch_02_image_001_a realistic portrait photog...    reliable person   \n",
              "1    batch_02_image_002_a realistic portrait photog...    reliable person   \n",
              "2    batch_02_image_003_a realistic portrait photog...  unreliable person   \n",
              "3    batch_02_image_004_a realistic portrait photog...  unreliable person   \n",
              "4    batch_02_image_005_a realistic portrait photog...   agreeable person   \n",
              "..                                                 ...                ...   \n",
              "855  batch_10_image_268_a realistic portrait photog...  unreliable person   \n",
              "856  batch_10_image_269_a realistic portrait photog...    reliable person   \n",
              "857  batch_10_image_270_a realistic portrait photog...    reliable person   \n",
              "858  batch_10_image_271_a realistic portrait photog...  unreliable person   \n",
              "859  batch_10_image_272_a realistic portrait photog...  unreliable person   \n",
              "\n",
              "      Age Gender  Positive  Race_asian  Race_black  Race_indian  \\\n",
              "0    24.0      1       1.0           0           0            1   \n",
              "1    55.0      1       1.0           0           0            0   \n",
              "2    34.0      1       0.0           0           0            0   \n",
              "3    27.0      1       0.0           0           0            1   \n",
              "4    31.0      1       1.0           0           0            1   \n",
              "..    ...    ...       ...         ...         ...          ...   \n",
              "855  44.0      1       0.0           0           0            0   \n",
              "856  29.0      1       1.0           1           0            0   \n",
              "857  24.0      1       1.0           0           0            1   \n",
              "858  44.0      1       0.0           0           0            0   \n",
              "859  18.0      1       0.0           1           0            0   \n",
              "\n",
              "     Race_latino hispanic  Race_middle eastern  Race_white  \n",
              "0                       0                    0           0  \n",
              "1                       0                    0           1  \n",
              "2                       0                    0           1  \n",
              "3                       0                    0           0  \n",
              "4                       0                    0           0  \n",
              "..                    ...                  ...         ...  \n",
              "855                     0                    0           1  \n",
              "856                     0                    0           0  \n",
              "857                     0                    0           0  \n",
              "858                     0                    0           1  \n",
              "859                     0                    0           0  \n",
              "\n",
              "[839 rows x 11 columns]"
            ]
          },
          "execution_count": 12,
          "metadata": {},
          "output_type": "execute_result"
        }
      ],
      "source": [
        "# One-hot encoding for regression\n",
        "df_final = pd.get_dummies(df_final, columns=['RaceDpFa'], prefix='Race')\n",
        "df_final"
      ]
    },
    {
      "attachments": {},
      "cell_type": "markdown",
      "id": "fa2926da",
      "metadata": {},
      "source": [
        "We ran the regression to on the 'Positive' variable."
      ]
    },
    {
      "cell_type": "code",
      "execution_count": 13,
      "id": "b_b7Y4Qr6lnY",
      "metadata": {
        "id": "b_b7Y4Qr6lnY"
      },
      "outputs": [
        {
          "name": "stdout",
          "output_type": "stream",
          "text": [
            "Coefficients for Age is -0.010796537143456738\n",
            "Coefficients for Gender is -0.06418555517294222\n",
            "Coefficients for Race_asian is -1.1070553398042742\n",
            "Coefficients for Race_black is 0.25235529625050895\n",
            "Coefficients for Race_indian is 0.8250675637151866\n",
            "Coefficients for Race_latino hispanic is 0.45720306516776654\n",
            "Coefficients for Race_middle eastern is 0.03565184906085017\n"
          ]
        }
      ],
      "source": [
        "from sklearn.linear_model import LogisticRegression\n",
        "X = df_final[['Age', 'Gender', 'Race_asian', 'Race_black', 'Race_indian', 'Race_latino hispanic', 'Race_middle eastern']]\n",
        "y = df_final['Positive']\n",
        "\n",
        "model = LogisticRegression()\n",
        "model.fit(X, y)\n",
        "\n",
        "coeff = model.coef_\n",
        "intercept = model.intercept_\n",
        "\n",
        "print(f'Coefficients for Age is {coeff[0][0]}')\n",
        "print(f'Coefficients for Gender is {coeff[0][1]}')\n",
        "print(f'Coefficients for Race_asian is {coeff[0][2]}')\n",
        "print(f'Coefficients for Race_black is {coeff[0][3]}')\n",
        "print(f'Coefficients for Race_indian is {coeff[0][4]}')\n",
        "print(f'Coefficients for Race_latino hispanic is {coeff[0][5]}')\n",
        "print(f'Coefficients for Race_middle eastern is {coeff[0][6]}')"
      ]
    },
    {
      "attachments": {},
      "cell_type": "markdown",
      "id": "d2360b4d",
      "metadata": {},
      "source": [
        "For each 1 year increase in age, the log-odds of the outcome being positive decrease by about -0.011. When the Gender variable is 1 (male), the outcome will decrease by about -0.064. When we look at the race variables, we were able to find wide range of coefficients by gender. The Race_asian variable had a coefficient -1.107, Race_black variable had a coefficient 0.252, Race_indian had a coefficient 0.825, Race_latino hispanic had a cofficient 0.457, and Race_middle easter varialbe had a coefficient 0.0357. Positive images are more associated with Indians, Hispanics, and Middle Eastern. However, the coefficients of Age and Gender variables were close to 0. Therefore the effect was not huge on the outcome. Overall, the number of female images produced were 14. There is not enoguh female data to make accurate asumptions about female outputs. \n",
        "\n",
        "As the coefficients indicate, younger people are associated with more positive impressions. Females are more likely to be related with negative words. Those two variables are biased in but not by a lot as the coefficients are not very large. However, for races, we see very large coefficients for Indians and Middle Eastern people, indicating that people from those races are more likely to be reflecting positive attributes. This is surprising since we were expecting the algorithms would be more bias towards white people. Our analysis, on the other hand, showed the opposite results. The image generating AI favors Indians and Middle eastern people. The bias still exists, just not the way we were expecting it to be. "
      ]
    },
    {
      "attachments": {},
      "cell_type": "markdown",
      "id": "decf5bbc",
      "metadata": {},
      "source": [
        "<img src=\"https://drive.google.com/uc?id=1Cm5UkXDaOHWuwlDpEmu916H9ywgTZI5-\" width=\"500\"/>"
      ]
    },
    {
      "attachments": {},
      "cell_type": "markdown",
      "id": "350cac20",
      "metadata": {},
      "source": [
        "Above is a diagram of the general architecture of our project which will help visualize the whole process. As users, to start with, we use Amazon SageMaker, written in Pyhton, to interact with APIs in this project. After giving the algorithm certain descriptions in the form of two lists of words with the same length, one is full of positive words and the other negative, we feed those words into OpenAI's DALL-E 2 API to generate many images and store those inot an Amazon S3 bucket for reproducibility. From the S3 bucket, we feed the photos into Amazon Rekognition API to generate information recognized from those photos. However, Amazon Rekognition does not provide racial information, which is crucial in our analysis. So, we will use another image recognition API called Deepface from Meta. After realizing that AWS is not compatibl with the APIs of Deepface, we copied all the images from Amazon S3 and stored them into a Google Drive and used Google Colab to access Deepface API to get racial data and added to our aggregated dataset. Lastly, we combine all the recognized data and use Sagemaker again got regression analysis, including race, age, gender and their corresponding impressions, either positive or negative. "
      ]
    },
    {
      "attachments": {},
      "cell_type": "markdown",
      "id": "b97ebdbb",
      "metadata": {},
      "source": [
        "Note that all the codes are written in Amazon SageMaker except for the parts that required google colab usage. We create two lists of words for describing people. Then we feed those words into DallE to generate vast amount of images and save them into an Amazon S3 bucket, which ensures reproducibility for future reference. Then we feed those images to facial recognition AIs. To add variety, we chose two AIs to compare. One is deepface by facebook. The other is Amazon Rekognition Image, which we learned during our classes. With the output for variables from those two AIs, we can proceed to data analysis stage. \n",
        "\n"
      ]
    }
  ],
  "metadata": {
    "availableInstances": [
      {
        "_defaultOrder": 0,
        "_isFastLaunch": true,
        "category": "General purpose",
        "gpuNum": 0,
        "memoryGiB": 4,
        "name": "ml.t3.medium",
        "vcpuNum": 2
      },
      {
        "_defaultOrder": 1,
        "_isFastLaunch": false,
        "category": "General purpose",
        "gpuNum": 0,
        "memoryGiB": 8,
        "name": "ml.t3.large",
        "vcpuNum": 2
      },
      {
        "_defaultOrder": 2,
        "_isFastLaunch": false,
        "category": "General purpose",
        "gpuNum": 0,
        "memoryGiB": 16,
        "name": "ml.t3.xlarge",
        "vcpuNum": 4
      },
      {
        "_defaultOrder": 3,
        "_isFastLaunch": false,
        "category": "General purpose",
        "gpuNum": 0,
        "memoryGiB": 32,
        "name": "ml.t3.2xlarge",
        "vcpuNum": 8
      },
      {
        "_defaultOrder": 4,
        "_isFastLaunch": true,
        "category": "General purpose",
        "gpuNum": 0,
        "memoryGiB": 8,
        "name": "ml.m5.large",
        "vcpuNum": 2
      },
      {
        "_defaultOrder": 5,
        "_isFastLaunch": false,
        "category": "General purpose",
        "gpuNum": 0,
        "memoryGiB": 16,
        "name": "ml.m5.xlarge",
        "vcpuNum": 4
      },
      {
        "_defaultOrder": 6,
        "_isFastLaunch": false,
        "category": "General purpose",
        "gpuNum": 0,
        "memoryGiB": 32,
        "name": "ml.m5.2xlarge",
        "vcpuNum": 8
      },
      {
        "_defaultOrder": 7,
        "_isFastLaunch": false,
        "category": "General purpose",
        "gpuNum": 0,
        "memoryGiB": 64,
        "name": "ml.m5.4xlarge",
        "vcpuNum": 16
      },
      {
        "_defaultOrder": 8,
        "_isFastLaunch": false,
        "category": "General purpose",
        "gpuNum": 0,
        "memoryGiB": 128,
        "name": "ml.m5.8xlarge",
        "vcpuNum": 32
      },
      {
        "_defaultOrder": 9,
        "_isFastLaunch": false,
        "category": "General purpose",
        "gpuNum": 0,
        "memoryGiB": 192,
        "name": "ml.m5.12xlarge",
        "vcpuNum": 48
      },
      {
        "_defaultOrder": 10,
        "_isFastLaunch": false,
        "category": "General purpose",
        "gpuNum": 0,
        "memoryGiB": 256,
        "name": "ml.m5.16xlarge",
        "vcpuNum": 64
      },
      {
        "_defaultOrder": 11,
        "_isFastLaunch": false,
        "category": "General purpose",
        "gpuNum": 0,
        "memoryGiB": 384,
        "name": "ml.m5.24xlarge",
        "vcpuNum": 96
      },
      {
        "_defaultOrder": 12,
        "_isFastLaunch": false,
        "category": "General purpose",
        "gpuNum": 0,
        "memoryGiB": 8,
        "name": "ml.m5d.large",
        "vcpuNum": 2
      },
      {
        "_defaultOrder": 13,
        "_isFastLaunch": false,
        "category": "General purpose",
        "gpuNum": 0,
        "memoryGiB": 16,
        "name": "ml.m5d.xlarge",
        "vcpuNum": 4
      },
      {
        "_defaultOrder": 14,
        "_isFastLaunch": false,
        "category": "General purpose",
        "gpuNum": 0,
        "memoryGiB": 32,
        "name": "ml.m5d.2xlarge",
        "vcpuNum": 8
      },
      {
        "_defaultOrder": 15,
        "_isFastLaunch": false,
        "category": "General purpose",
        "gpuNum": 0,
        "memoryGiB": 64,
        "name": "ml.m5d.4xlarge",
        "vcpuNum": 16
      },
      {
        "_defaultOrder": 16,
        "_isFastLaunch": false,
        "category": "General purpose",
        "gpuNum": 0,
        "memoryGiB": 128,
        "name": "ml.m5d.8xlarge",
        "vcpuNum": 32
      },
      {
        "_defaultOrder": 17,
        "_isFastLaunch": false,
        "category": "General purpose",
        "gpuNum": 0,
        "memoryGiB": 192,
        "name": "ml.m5d.12xlarge",
        "vcpuNum": 48
      },
      {
        "_defaultOrder": 18,
        "_isFastLaunch": false,
        "category": "General purpose",
        "gpuNum": 0,
        "memoryGiB": 256,
        "name": "ml.m5d.16xlarge",
        "vcpuNum": 64
      },
      {
        "_defaultOrder": 19,
        "_isFastLaunch": false,
        "category": "General purpose",
        "gpuNum": 0,
        "memoryGiB": 384,
        "name": "ml.m5d.24xlarge",
        "vcpuNum": 96
      },
      {
        "_defaultOrder": 20,
        "_isFastLaunch": true,
        "category": "Compute optimized",
        "gpuNum": 0,
        "memoryGiB": 4,
        "name": "ml.c5.large",
        "vcpuNum": 2
      },
      {
        "_defaultOrder": 21,
        "_isFastLaunch": false,
        "category": "Compute optimized",
        "gpuNum": 0,
        "memoryGiB": 8,
        "name": "ml.c5.xlarge",
        "vcpuNum": 4
      },
      {
        "_defaultOrder": 22,
        "_isFastLaunch": false,
        "category": "Compute optimized",
        "gpuNum": 0,
        "memoryGiB": 16,
        "name": "ml.c5.2xlarge",
        "vcpuNum": 8
      },
      {
        "_defaultOrder": 23,
        "_isFastLaunch": false,
        "category": "Compute optimized",
        "gpuNum": 0,
        "memoryGiB": 32,
        "name": "ml.c5.4xlarge",
        "vcpuNum": 16
      },
      {
        "_defaultOrder": 24,
        "_isFastLaunch": false,
        "category": "Compute optimized",
        "gpuNum": 0,
        "memoryGiB": 72,
        "name": "ml.c5.9xlarge",
        "vcpuNum": 36
      },
      {
        "_defaultOrder": 25,
        "_isFastLaunch": false,
        "category": "Compute optimized",
        "gpuNum": 0,
        "memoryGiB": 96,
        "name": "ml.c5.12xlarge",
        "vcpuNum": 48
      },
      {
        "_defaultOrder": 26,
        "_isFastLaunch": false,
        "category": "Compute optimized",
        "gpuNum": 0,
        "memoryGiB": 144,
        "name": "ml.c5.18xlarge",
        "vcpuNum": 72
      },
      {
        "_defaultOrder": 27,
        "_isFastLaunch": false,
        "category": "Compute optimized",
        "gpuNum": 0,
        "memoryGiB": 192,
        "name": "ml.c5.24xlarge",
        "vcpuNum": 96
      },
      {
        "_defaultOrder": 28,
        "_isFastLaunch": true,
        "category": "Accelerated computing",
        "gpuNum": 1,
        "memoryGiB": 16,
        "name": "ml.g4dn.xlarge",
        "vcpuNum": 4
      },
      {
        "_defaultOrder": 29,
        "_isFastLaunch": false,
        "category": "Accelerated computing",
        "gpuNum": 1,
        "memoryGiB": 32,
        "name": "ml.g4dn.2xlarge",
        "vcpuNum": 8
      },
      {
        "_defaultOrder": 30,
        "_isFastLaunch": false,
        "category": "Accelerated computing",
        "gpuNum": 1,
        "memoryGiB": 64,
        "name": "ml.g4dn.4xlarge",
        "vcpuNum": 16
      },
      {
        "_defaultOrder": 31,
        "_isFastLaunch": false,
        "category": "Accelerated computing",
        "gpuNum": 1,
        "memoryGiB": 128,
        "name": "ml.g4dn.8xlarge",
        "vcpuNum": 32
      },
      {
        "_defaultOrder": 32,
        "_isFastLaunch": false,
        "category": "Accelerated computing",
        "gpuNum": 4,
        "memoryGiB": 192,
        "name": "ml.g4dn.12xlarge",
        "vcpuNum": 48
      },
      {
        "_defaultOrder": 33,
        "_isFastLaunch": false,
        "category": "Accelerated computing",
        "gpuNum": 1,
        "memoryGiB": 256,
        "name": "ml.g4dn.16xlarge",
        "vcpuNum": 64
      },
      {
        "_defaultOrder": 34,
        "_isFastLaunch": false,
        "category": "Accelerated computing",
        "gpuNum": 1,
        "memoryGiB": 61,
        "name": "ml.p3.2xlarge",
        "vcpuNum": 8
      },
      {
        "_defaultOrder": 35,
        "_isFastLaunch": false,
        "category": "Accelerated computing",
        "gpuNum": 4,
        "memoryGiB": 244,
        "name": "ml.p3.8xlarge",
        "vcpuNum": 32
      },
      {
        "_defaultOrder": 36,
        "_isFastLaunch": false,
        "category": "Accelerated computing",
        "gpuNum": 8,
        "memoryGiB": 488,
        "name": "ml.p3.16xlarge",
        "vcpuNum": 64
      },
      {
        "_defaultOrder": 37,
        "_isFastLaunch": false,
        "category": "Accelerated computing",
        "gpuNum": 8,
        "memoryGiB": 768,
        "name": "ml.p3dn.24xlarge",
        "vcpuNum": 96
      },
      {
        "_defaultOrder": 38,
        "_isFastLaunch": false,
        "category": "Memory Optimized",
        "gpuNum": 0,
        "memoryGiB": 16,
        "name": "ml.r5.large",
        "vcpuNum": 2
      },
      {
        "_defaultOrder": 39,
        "_isFastLaunch": false,
        "category": "Memory Optimized",
        "gpuNum": 0,
        "memoryGiB": 32,
        "name": "ml.r5.xlarge",
        "vcpuNum": 4
      },
      {
        "_defaultOrder": 40,
        "_isFastLaunch": false,
        "category": "Memory Optimized",
        "gpuNum": 0,
        "memoryGiB": 64,
        "name": "ml.r5.2xlarge",
        "vcpuNum": 8
      },
      {
        "_defaultOrder": 41,
        "_isFastLaunch": false,
        "category": "Memory Optimized",
        "gpuNum": 0,
        "memoryGiB": 128,
        "name": "ml.r5.4xlarge",
        "vcpuNum": 16
      },
      {
        "_defaultOrder": 42,
        "_isFastLaunch": false,
        "category": "Memory Optimized",
        "gpuNum": 0,
        "memoryGiB": 256,
        "name": "ml.r5.8xlarge",
        "vcpuNum": 32
      },
      {
        "_defaultOrder": 43,
        "_isFastLaunch": false,
        "category": "Memory Optimized",
        "gpuNum": 0,
        "memoryGiB": 384,
        "name": "ml.r5.12xlarge",
        "vcpuNum": 48
      },
      {
        "_defaultOrder": 44,
        "_isFastLaunch": false,
        "category": "Memory Optimized",
        "gpuNum": 0,
        "memoryGiB": 512,
        "name": "ml.r5.16xlarge",
        "vcpuNum": 64
      },
      {
        "_defaultOrder": 45,
        "_isFastLaunch": false,
        "category": "Memory Optimized",
        "gpuNum": 0,
        "memoryGiB": 768,
        "name": "ml.r5.24xlarge",
        "vcpuNum": 96
      },
      {
        "_defaultOrder": 46,
        "_isFastLaunch": false,
        "category": "Accelerated computing",
        "gpuNum": 1,
        "memoryGiB": 16,
        "name": "ml.g5.xlarge",
        "vcpuNum": 4
      },
      {
        "_defaultOrder": 47,
        "_isFastLaunch": false,
        "category": "Accelerated computing",
        "gpuNum": 1,
        "memoryGiB": 32,
        "name": "ml.g5.2xlarge",
        "vcpuNum": 8
      },
      {
        "_defaultOrder": 48,
        "_isFastLaunch": false,
        "category": "Accelerated computing",
        "gpuNum": 1,
        "memoryGiB": 64,
        "name": "ml.g5.4xlarge",
        "vcpuNum": 16
      },
      {
        "_defaultOrder": 49,
        "_isFastLaunch": false,
        "category": "Accelerated computing",
        "gpuNum": 1,
        "memoryGiB": 128,
        "name": "ml.g5.8xlarge",
        "vcpuNum": 32
      },
      {
        "_defaultOrder": 50,
        "_isFastLaunch": false,
        "category": "Accelerated computing",
        "gpuNum": 1,
        "memoryGiB": 256,
        "name": "ml.g5.16xlarge",
        "vcpuNum": 64
      },
      {
        "_defaultOrder": 51,
        "_isFastLaunch": false,
        "category": "Accelerated computing",
        "gpuNum": 4,
        "memoryGiB": 192,
        "name": "ml.g5.12xlarge",
        "vcpuNum": 48
      },
      {
        "_defaultOrder": 52,
        "_isFastLaunch": false,
        "category": "Accelerated computing",
        "gpuNum": 4,
        "memoryGiB": 384,
        "name": "ml.g5.24xlarge",
        "vcpuNum": 96
      },
      {
        "_defaultOrder": 53,
        "_isFastLaunch": false,
        "category": "Accelerated computing",
        "gpuNum": 8,
        "memoryGiB": 768,
        "name": "ml.g5.48xlarge",
        "vcpuNum": 192
      }
    ],
    "colab": {
      "provenance": []
    },
    "instance_type": "ml.t3.medium",
    "kernelspec": {
      "display_name": "base",
      "language": "python",
      "name": "python3"
    },
    "language_info": {
      "codemirror_mode": {
        "name": "ipython",
        "version": 3
      },
      "file_extension": ".py",
      "mimetype": "text/x-python",
      "name": "python",
      "nbconvert_exporter": "python",
      "pygments_lexer": "ipython3",
      "version": "3.8.10"
    }
  },
  "nbformat": 4,
  "nbformat_minor": 5
}
